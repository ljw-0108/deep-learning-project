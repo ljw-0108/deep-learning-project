{
  "nbformat": 4,
  "nbformat_minor": 0,
  "metadata": {
    "colab": {
      "provenance": [],
      "gpuType": "T4"
    },
    "kernelspec": {
      "name": "python3",
      "display_name": "Python 3"
    },
    "language_info": {
      "name": "python"
    },
    "accelerator": "GPU"
  },
  "cells": [
    {
      "cell_type": "markdown",
      "source": [
        " 토트넘 우승 확률 예측\n",
        "\n"
      ],
      "metadata": {
        "id": "Ou7sr7iR56vn"
      }
    },
    {
      "cell_type": "code",
      "source": [
        "# -----------------------------------\n",
        "# 1) 라이브러리 & 랜덤 시드 설정\n",
        "import os\n",
        "import random\n",
        "import numpy as np\n",
        "import pandas as pd\n",
        "import matplotlib.pyplot as plt\n",
        "import tensorflow as tf\n",
        "\n",
        "from sklearn.preprocessing import StandardScaler\n",
        "from sklearn.model_selection import train_test_split\n",
        "from sklearn.utils.class_weight import compute_class_weight\n",
        "from sklearn.metrics import confusion_matrix, roc_auc_score, roc_curve\n",
        "\n",
        "from tensorflow.keras.models import Sequential\n",
        "from tensorflow.keras.layers import Dense, Dropout\n",
        "from tensorflow.keras.callbacks import (\n",
        "    EarlyStopping, ModelCheckpoint, ReduceLROnPlateau, TensorBoard\n",
        ")\n",
        "from tensorflow.keras.metrics import Precision, Recall\n",
        "\n",
        "from google.colab import drive\n",
        "drive.mount('/content/drive')\n",
        "\n",
        "# 랜덤 시드 고정\n",
        "seed = 42\n",
        "np.random.seed(seed)\n",
        "random.seed(seed)\n",
        "tf.random.set_seed(seed)\n",
        "\n",
        "# -----------------------------------\n",
        "# 2) 데이터 로드 & 전처리\n",
        "df = pd.read_csv('/content/drive/MyDrive/dl/England CSV.csv')\n",
        "df = df.rename(columns={\n",
        "    'FTH Goals': 'FTHG', 'FTA Goals': 'FTAG',\n",
        "    'HTH Goals': 'HTHG', 'HTA Goals': 'HTAG',\n",
        "    'FT Result': 'FTR', 'HT Result': 'HTR'\n",
        "})\n",
        "df['Date'] = pd.to_datetime(df['Date'], dayfirst=True)\n",
        "df['Season'] = df['Season'].str.replace('/', '-')\n",
        "\n",
        "# 시즌·팀별 집계\n",
        "def get_result(row, team):\n",
        "    if row['HomeTeam'] == team:\n",
        "        return 1 if row['FTR']=='H' else (0.5 if row['FTR']=='D' else 0)\n",
        "    else:\n",
        "        return 1 if row['FTR']=='A' else (0.5 if row['FTR']=='D' else 0)\n",
        "\n",
        "teams = pd.unique(df[['HomeTeam','AwayTeam']].values.ravel())\n",
        "seasons = df['Season'].unique()\n",
        "agg_rows = []\n",
        "\n",
        "for season in seasons:\n",
        "    dft = df[df['Season']==season]\n",
        "    for team in teams:\n",
        "        sub = dft[(dft['HomeTeam']==team)|(dft['AwayTeam']==team)]\n",
        "        if sub.empty: continue\n",
        "\n",
        "        wins = sum(sub.apply(lambda r: get_result(r, team)==1, axis=1))\n",
        "        draws = sum(sub.apply(lambda r: get_result(r, team)==0.5, axis=1))\n",
        "        losses = sum(sub.apply(lambda r: get_result(r, team)==0, axis=1))\n",
        "        gf = sum(np.where(sub['HomeTeam']==team, sub['FTHG'], sub['FTAG']))\n",
        "        ga = sum(np.where(sub['HomeTeam']==team, sub['FTAG'], sub['FTHG']))\n",
        "        pts = wins*3 + draws*1\n",
        "\n",
        "        agg_rows.append({\n",
        "            'Season': season,\n",
        "            'Team': team,\n",
        "            'Wins': wins,\n",
        "            'Draws': draws,\n",
        "            'Losses': losses,\n",
        "            'GF': gf,\n",
        "            'GA': ga,\n",
        "            'GD': gf - ga,\n",
        "            'Points': pts,\n",
        "            'Matches': len(sub)\n",
        "        })\n",
        "\n",
        "df_team = pd.DataFrame(agg_rows)\n",
        "\n",
        "# 챔피언 레이블 부착\n",
        "champions = (\n",
        "    df_team.loc[df_team.groupby('Season')['Points'].idxmax(), ['Season','Team']]\n",
        "    .rename(columns={'Team':'Champion'})\n",
        ")\n",
        "df_team = df_team.merge(champions, on='Season')\n",
        "df_team['IsChampion'] = (df_team['Team'] == df_team['Champion']).astype(int)\n",
        "\n",
        "# 특성/레이블 분리\n",
        "features = ['Wins','Draws','Losses','GF','GA','GD','Points','Matches']\n",
        "X = df_team[features].values\n",
        "y = df_team['IsChampion'].values\n",
        "\n",
        "# train/validation split\n",
        "X_train, X_val, y_train, y_val = train_test_split(\n",
        "    X, y, test_size=0.2, stratify=y, random_state=seed\n",
        ")\n",
        "\n",
        "# 스케일링\n",
        "scaler = StandardScaler()\n",
        "X_train = scaler.fit_transform(X_train)\n",
        "X_val   = scaler.transform(X_val)\n",
        "\n",
        "# 클래스 가중치 계산\n",
        "unique_classes = np.unique(y_train)\n",
        "class_weights_vals = compute_class_weight(\n",
        "    class_weight='balanced',\n",
        "    classes=unique_classes,\n",
        "    y=y_train\n",
        ")\n",
        "class_weight_dict = dict(zip(unique_classes, class_weights_vals))\n",
        "print(\"클래스 가중치:\", class_weight_dict)\n",
        "\n",
        "# -----------------------------------\n",
        "# 3) 모델 구축\n",
        "model = Sequential([\n",
        "    Dense(64, activation='relu', input_shape=(X_train.shape[1],)),\n",
        "    Dropout(0.3),\n",
        "    Dense(32, activation='relu'),\n",
        "    Dropout(0.3),\n",
        "    Dense(1, activation='sigmoid')\n",
        "])\n",
        "\n",
        "model.compile(\n",
        "    optimizer='adam',\n",
        "    loss='binary_crossentropy',\n",
        "    metrics=['accuracy', Precision(name='precision'), Recall(name='recall')]\n",
        ")\n",
        "\n",
        "model.summary()\n",
        "\n",
        "# -----------------------------------\n",
        "# 4) 콜백 설정\n",
        "es = EarlyStopping(monitor='val_loss', patience=10, restore_best_weights=True)\n",
        "\n",
        "checkpoint_cb = ModelCheckpoint(\n",
        "    'best_model.h5', monitor='val_loss',\n",
        "    save_best_only=True, mode='min', verbose=1\n",
        ")\n",
        "\n",
        "reduce_lr = ReduceLROnPlateau(\n",
        "    monitor='val_loss', factor=0.5, patience=5, min_lr=1e-6, verbose=1\n",
        ")\n",
        "\n",
        "import datetime\n",
        "log_dir = \"logs/fit/\" + datetime.datetime.now().strftime(\"%Y%m%d-%H%M%S\")\n",
        "tb_cb = TensorBoard(log_dir=log_dir, histogram_freq=1, write_graph=True)\n",
        "\n",
        "# -----------------------------------\n",
        "# 5) 모델 학습\n",
        "history = model.fit(\n",
        "    X_train, y_train,\n",
        "    validation_data=(X_val, y_val),\n",
        "    epochs=200,\n",
        "    batch_size=16,\n",
        "    class_weight=class_weight_dict,\n",
        "    callbacks=[es, checkpoint_cb, reduce_lr, tb_cb],\n",
        "    verbose=1\n",
        ")\n",
        "\n",
        "# -----------------------------------\n",
        "# 6) 성능 평가\n",
        "loss, acc, prec, rec = model.evaluate(X_val, y_val, verbose=0)\n",
        "print(f\"\\n검증 결과 -> Loss: {loss:.4f}, Accuracy: {acc:.4f}, Precision: {prec:.4f}, Recall: {rec:.4f}\")\n",
        "\n",
        "# 7) Confusion Matrix & ROC-AUC\n",
        "y_val_pred_prob = model.predict(X_val).ravel()\n",
        "y_val_pred = (y_val_pred_prob >= 0.5).astype(int)\n",
        "\n",
        "cm = confusion_matrix(y_val, y_val_pred)\n",
        "print(\"Confusion Matrix:\\n\", cm)\n",
        "\n",
        "auc = roc_auc_score(y_val, y_val_pred_prob)\n",
        "print(f\"ROC-AUC: {auc:.4f}\")\n",
        "\n",
        "fpr, tpr, thresholds = roc_curve(y_val, y_val_pred_prob)\n",
        "plt.figure(figsize=(6, 6))\n",
        "plt.plot(fpr, tpr, label=f'AUC = {auc:.4f}')\n",
        "plt.plot([0, 1], [0, 1], 'k--')\n",
        "plt.xlabel('False Positive Rate')\n",
        "plt.ylabel('True Positive Rate')\n",
        "plt.title('ROC Curve')\n",
        "plt.legend()\n",
        "plt.show()\n",
        "\n",
        "# 8) 토트넘 2024-25 시즌 우승 확률 예측\n",
        "tott_2425 = df_team[\n",
        "    (df_team['Season']=='2024-25') & (df_team['Team']=='Tottenham')\n",
        "][features].values\n",
        "tott_scaled = scaler.transform(tott_2425)\n",
        "prob = model.predict(tott_scaled)[0][0]\n",
        "print(f\"\\n2024-25 시즌 토트넘 우승 확률 예측: {prob*100:.2f}%\")\n"
      ],
      "metadata": {
        "id": "9gACwYKm7F5T",
        "outputId": "05f80f8f-97a1-4c3f-eb12-85626fe12bd2",
        "colab": {
          "base_uri": "https://localhost:8080/",
          "height": 1000
        }
      },
      "execution_count": 6,
      "outputs": [
        {
          "output_type": "stream",
          "name": "stdout",
          "text": [
            "클래스 가중치: {np.int64(0): np.float64(0.5265306122448979), np.int64(1): np.float64(9.923076923076923)}\n"
          ]
        },
        {
          "output_type": "stream",
          "name": "stderr",
          "text": [
            "/usr/local/lib/python3.11/dist-packages/keras/src/layers/core/dense.py:87: UserWarning: Do not pass an `input_shape`/`input_dim` argument to a layer. When using Sequential models, prefer using an `Input(shape)` object as the first layer in the model instead.\n",
            "  super().__init__(activity_regularizer=activity_regularizer, **kwargs)\n"
          ]
        },
        {
          "output_type": "display_data",
          "data": {
            "text/plain": [
              "\u001b[1mModel: \"sequential\"\u001b[0m\n"
            ],
            "text/html": [
              "<pre style=\"white-space:pre;overflow-x:auto;line-height:normal;font-family:Menlo,'DejaVu Sans Mono',consolas,'Courier New',monospace\"><span style=\"font-weight: bold\">Model: \"sequential\"</span>\n",
              "</pre>\n"
            ]
          },
          "metadata": {}
        },
        {
          "output_type": "display_data",
          "data": {
            "text/plain": [
              "┏━━━━━━━━━━━━━━━━━━━━━━━━━━━━━━━━━┳━━━━━━━━━━━━━━━━━━━━━━━━┳━━━━━━━━━━━━━━━┓\n",
              "┃\u001b[1m \u001b[0m\u001b[1mLayer (type)                   \u001b[0m\u001b[1m \u001b[0m┃\u001b[1m \u001b[0m\u001b[1mOutput Shape          \u001b[0m\u001b[1m \u001b[0m┃\u001b[1m \u001b[0m\u001b[1m      Param #\u001b[0m\u001b[1m \u001b[0m┃\n",
              "┡━━━━━━━━━━━━━━━━━━━━━━━━━━━━━━━━━╇━━━━━━━━━━━━━━━━━━━━━━━━╇━━━━━━━━━━━━━━━┩\n",
              "│ dense (\u001b[38;5;33mDense\u001b[0m)                   │ (\u001b[38;5;45mNone\u001b[0m, \u001b[38;5;34m64\u001b[0m)             │           \u001b[38;5;34m576\u001b[0m │\n",
              "├─────────────────────────────────┼────────────────────────┼───────────────┤\n",
              "│ dropout (\u001b[38;5;33mDropout\u001b[0m)               │ (\u001b[38;5;45mNone\u001b[0m, \u001b[38;5;34m64\u001b[0m)             │             \u001b[38;5;34m0\u001b[0m │\n",
              "├─────────────────────────────────┼────────────────────────┼───────────────┤\n",
              "│ dense_1 (\u001b[38;5;33mDense\u001b[0m)                 │ (\u001b[38;5;45mNone\u001b[0m, \u001b[38;5;34m32\u001b[0m)             │         \u001b[38;5;34m2,080\u001b[0m │\n",
              "├─────────────────────────────────┼────────────────────────┼───────────────┤\n",
              "│ dropout_1 (\u001b[38;5;33mDropout\u001b[0m)             │ (\u001b[38;5;45mNone\u001b[0m, \u001b[38;5;34m32\u001b[0m)             │             \u001b[38;5;34m0\u001b[0m │\n",
              "├─────────────────────────────────┼────────────────────────┼───────────────┤\n",
              "│ dense_2 (\u001b[38;5;33mDense\u001b[0m)                 │ (\u001b[38;5;45mNone\u001b[0m, \u001b[38;5;34m1\u001b[0m)              │            \u001b[38;5;34m33\u001b[0m │\n",
              "└─────────────────────────────────┴────────────────────────┴───────────────┘\n"
            ],
            "text/html": [
              "<pre style=\"white-space:pre;overflow-x:auto;line-height:normal;font-family:Menlo,'DejaVu Sans Mono',consolas,'Courier New',monospace\">┏━━━━━━━━━━━━━━━━━━━━━━━━━━━━━━━━━┳━━━━━━━━━━━━━━━━━━━━━━━━┳━━━━━━━━━━━━━━━┓\n",
              "┃<span style=\"font-weight: bold\"> Layer (type)                    </span>┃<span style=\"font-weight: bold\"> Output Shape           </span>┃<span style=\"font-weight: bold\">       Param # </span>┃\n",
              "┡━━━━━━━━━━━━━━━━━━━━━━━━━━━━━━━━━╇━━━━━━━━━━━━━━━━━━━━━━━━╇━━━━━━━━━━━━━━━┩\n",
              "│ dense (<span style=\"color: #0087ff; text-decoration-color: #0087ff\">Dense</span>)                   │ (<span style=\"color: #00d7ff; text-decoration-color: #00d7ff\">None</span>, <span style=\"color: #00af00; text-decoration-color: #00af00\">64</span>)             │           <span style=\"color: #00af00; text-decoration-color: #00af00\">576</span> │\n",
              "├─────────────────────────────────┼────────────────────────┼───────────────┤\n",
              "│ dropout (<span style=\"color: #0087ff; text-decoration-color: #0087ff\">Dropout</span>)               │ (<span style=\"color: #00d7ff; text-decoration-color: #00d7ff\">None</span>, <span style=\"color: #00af00; text-decoration-color: #00af00\">64</span>)             │             <span style=\"color: #00af00; text-decoration-color: #00af00\">0</span> │\n",
              "├─────────────────────────────────┼────────────────────────┼───────────────┤\n",
              "│ dense_1 (<span style=\"color: #0087ff; text-decoration-color: #0087ff\">Dense</span>)                 │ (<span style=\"color: #00d7ff; text-decoration-color: #00d7ff\">None</span>, <span style=\"color: #00af00; text-decoration-color: #00af00\">32</span>)             │         <span style=\"color: #00af00; text-decoration-color: #00af00\">2,080</span> │\n",
              "├─────────────────────────────────┼────────────────────────┼───────────────┤\n",
              "│ dropout_1 (<span style=\"color: #0087ff; text-decoration-color: #0087ff\">Dropout</span>)             │ (<span style=\"color: #00d7ff; text-decoration-color: #00d7ff\">None</span>, <span style=\"color: #00af00; text-decoration-color: #00af00\">32</span>)             │             <span style=\"color: #00af00; text-decoration-color: #00af00\">0</span> │\n",
              "├─────────────────────────────────┼────────────────────────┼───────────────┤\n",
              "│ dense_2 (<span style=\"color: #0087ff; text-decoration-color: #0087ff\">Dense</span>)                 │ (<span style=\"color: #00d7ff; text-decoration-color: #00d7ff\">None</span>, <span style=\"color: #00af00; text-decoration-color: #00af00\">1</span>)              │            <span style=\"color: #00af00; text-decoration-color: #00af00\">33</span> │\n",
              "└─────────────────────────────────┴────────────────────────┴───────────────┘\n",
              "</pre>\n"
            ]
          },
          "metadata": {}
        },
        {
          "output_type": "display_data",
          "data": {
            "text/plain": [
              "\u001b[1m Total params: \u001b[0m\u001b[38;5;34m2,689\u001b[0m (10.50 KB)\n"
            ],
            "text/html": [
              "<pre style=\"white-space:pre;overflow-x:auto;line-height:normal;font-family:Menlo,'DejaVu Sans Mono',consolas,'Courier New',monospace\"><span style=\"font-weight: bold\"> Total params: </span><span style=\"color: #00af00; text-decoration-color: #00af00\">2,689</span> (10.50 KB)\n",
              "</pre>\n"
            ]
          },
          "metadata": {}
        },
        {
          "output_type": "display_data",
          "data": {
            "text/plain": [
              "\u001b[1m Trainable params: \u001b[0m\u001b[38;5;34m2,689\u001b[0m (10.50 KB)\n"
            ],
            "text/html": [
              "<pre style=\"white-space:pre;overflow-x:auto;line-height:normal;font-family:Menlo,'DejaVu Sans Mono',consolas,'Courier New',monospace\"><span style=\"font-weight: bold\"> Trainable params: </span><span style=\"color: #00af00; text-decoration-color: #00af00\">2,689</span> (10.50 KB)\n",
              "</pre>\n"
            ]
          },
          "metadata": {}
        },
        {
          "output_type": "display_data",
          "data": {
            "text/plain": [
              "\u001b[1m Non-trainable params: \u001b[0m\u001b[38;5;34m0\u001b[0m (0.00 B)\n"
            ],
            "text/html": [
              "<pre style=\"white-space:pre;overflow-x:auto;line-height:normal;font-family:Menlo,'DejaVu Sans Mono',consolas,'Courier New',monospace\"><span style=\"font-weight: bold\"> Non-trainable params: </span><span style=\"color: #00af00; text-decoration-color: #00af00\">0</span> (0.00 B)\n",
              "</pre>\n"
            ]
          },
          "metadata": {}
        },
        {
          "output_type": "stream",
          "name": "stdout",
          "text": [
            "Epoch 1/200\n",
            "\u001b[1m33/33\u001b[0m \u001b[32m━━━━━━━━━━━━━━━━━━━━\u001b[0m\u001b[37m\u001b[0m \u001b[1m0s\u001b[0m 46ms/step - accuracy: 0.7083 - loss: 0.7056 - precision: 0.0293 - recall: 0.2471\n",
            "Epoch 1: val_loss improved from inf to 0.51084, saving model to best_model.h5\n"
          ]
        },
        {
          "output_type": "stream",
          "name": "stderr",
          "text": [
            "WARNING:absl:You are saving your model as an HDF5 file via `model.save()` or `keras.saving.save_model(model)`. This file format is considered legacy. We recommend using instead the native Keras format, e.g. `model.save('my_model.keras')` or `keras.saving.save_model(model, 'my_model.keras')`. \n"
          ]
        },
        {
          "output_type": "stream",
          "name": "stdout",
          "text": [
            "\b\b\b\b\b\b\b\b\b\b\b\b\b\b\b\b\b\b\b\b\b\b\b\b\b\b\b\b\b\b\b\b\b\b\b\b\b\b\b\b\b\b\b\b\b\b\b\b\b\b\b\b\b\b\b\b\b\b\b\b\b\b\b\b\b\b\b\b\b\b\b\b\b\b\b\b\b\b\b\b\b\b\b\b\b\b\b\b\b\b\b\b\b\b\b\b\b\b\b\b\b\b\b\b\b\b\b\b\b\b\r\u001b[1m33/33\u001b[0m \u001b[32m━━━━━━━━━━━━━━━━━━━━\u001b[0m\u001b[37m\u001b[0m \u001b[1m7s\u001b[0m 80ms/step - accuracy: 0.7105 - loss: 0.7070 - precision: 0.0294 - recall: 0.2432 - val_accuracy: 0.8385 - val_loss: 0.5108 - val_precision: 0.2000 - val_recall: 0.8333 - learning_rate: 0.0010\n",
            "Epoch 2/200\n",
            "\u001b[1m30/33\u001b[0m \u001b[32m━━━━━━━━━━━━━━━━━━\u001b[0m\u001b[37m━━\u001b[0m \u001b[1m0s\u001b[0m 4ms/step - accuracy: 0.7907 - loss: 0.5150 - precision: 0.0931 - recall: 0.4545\n",
            "Epoch 2: val_loss improved from 0.51084 to 0.42224, saving model to best_model.h5\n"
          ]
        },
        {
          "output_type": "stream",
          "name": "stderr",
          "text": [
            "WARNING:absl:You are saving your model as an HDF5 file via `model.save()` or `keras.saving.save_model(model)`. This file format is considered legacy. We recommend using instead the native Keras format, e.g. `model.save('my_model.keras')` or `keras.saving.save_model(model, 'my_model.keras')`. \n"
          ]
        },
        {
          "output_type": "stream",
          "name": "stdout",
          "text": [
            "\b\b\b\b\b\b\b\b\b\b\b\b\b\b\b\b\b\b\b\b\b\b\b\b\b\b\b\b\b\b\b\b\b\b\b\b\b\b\b\b\b\b\b\b\b\b\b\b\b\b\b\b\b\b\b\b\b\b\b\b\b\b\b\b\b\b\b\b\b\b\b\b\b\b\b\b\b\b\b\b\b\b\b\b\b\b\b\b\b\b\b\b\b\b\b\b\b\b\b\b\b\b\b\b\b\b\b\b\b\r\u001b[1m33/33\u001b[0m \u001b[32m━━━━━━━━━━━━━━━━━━━━\u001b[0m\u001b[37m\u001b[0m \u001b[1m0s\u001b[0m 8ms/step - accuracy: 0.7910 - loss: 0.5146 - precision: 0.1003 - recall: 0.4857 - val_accuracy: 0.7538 - val_loss: 0.4222 - val_precision: 0.1579 - val_recall: 1.0000 - learning_rate: 0.0010\n",
            "Epoch 3/200\n",
            "\u001b[1m31/33\u001b[0m \u001b[32m━━━━━━━━━━━━━━━━━━\u001b[0m\u001b[37m━━\u001b[0m \u001b[1m0s\u001b[0m 3ms/step - accuracy: 0.7230 - loss: 0.4006 - precision: 0.1305 - recall: 1.0000\n",
            "Epoch 3: val_loss improved from 0.42224 to 0.37947, saving model to best_model.h5\n"
          ]
        },
        {
          "output_type": "stream",
          "name": "stderr",
          "text": [
            "WARNING:absl:You are saving your model as an HDF5 file via `model.save()` or `keras.saving.save_model(model)`. This file format is considered legacy. We recommend using instead the native Keras format, e.g. `model.save('my_model.keras')` or `keras.saving.save_model(model, 'my_model.keras')`. \n"
          ]
        },
        {
          "output_type": "stream",
          "name": "stdout",
          "text": [
            "\b\b\b\b\b\b\b\b\b\b\b\b\b\b\b\b\b\b\b\b\b\b\b\b\b\b\b\b\b\b\b\b\b\b\b\b\b\b\b\b\b\b\b\b\b\b\b\b\b\b\b\b\b\b\b\b\b\b\b\b\b\b\b\b\b\b\b\b\b\b\b\b\b\b\b\b\b\b\b\b\b\b\b\b\b\b\b\b\b\b\b\b\b\b\b\b\b\b\b\b\b\b\b\b\b\b\b\b\b\r\u001b[1m33/33\u001b[0m \u001b[32m━━━━━━━━━━━━━━━━━━━━\u001b[0m\u001b[37m\u001b[0m \u001b[1m0s\u001b[0m 9ms/step - accuracy: 0.7255 - loss: 0.3984 - precision: 0.1336 - recall: 1.0000 - val_accuracy: 0.7615 - val_loss: 0.3795 - val_precision: 0.1622 - val_recall: 1.0000 - learning_rate: 0.0010\n",
            "Epoch 4/200\n",
            "\u001b[1m26/33\u001b[0m \u001b[32m━━━━━━━━━━━━━━━\u001b[0m\u001b[37m━━━━━\u001b[0m \u001b[1m0s\u001b[0m 4ms/step - accuracy: 0.7013 - loss: 0.3958 - precision: 0.0948 - recall: 0.7310\n",
            "Epoch 4: val_loss improved from 0.37947 to 0.37149, saving model to best_model.h5\n"
          ]
        },
        {
          "output_type": "stream",
          "name": "stderr",
          "text": [
            "WARNING:absl:You are saving your model as an HDF5 file via `model.save()` or `keras.saving.save_model(model)`. This file format is considered legacy. We recommend using instead the native Keras format, e.g. `model.save('my_model.keras')` or `keras.saving.save_model(model, 'my_model.keras')`. \n"
          ]
        },
        {
          "output_type": "stream",
          "name": "stdout",
          "text": [
            "\b\b\b\b\b\b\b\b\b\b\b\b\b\b\b\b\b\b\b\b\b\b\b\b\b\b\b\b\b\b\b\b\b\b\b\b\b\b\b\b\b\b\b\b\b\b\b\b\b\b\b\b\b\b\b\b\b\b\b\b\b\b\b\b\b\b\b\b\b\b\b\b\b\b\b\b\b\b\b\b\b\b\b\b\b\b\b\b\b\b\b\b\b\b\b\b\b\b\b\b\b\b\b\b\b\b\b\b\b\r\u001b[1m33/33\u001b[0m \u001b[32m━━━━━━━━━━━━━━━━━━━━\u001b[0m\u001b[37m\u001b[0m \u001b[1m0s\u001b[0m 9ms/step - accuracy: 0.7075 - loss: 0.3820 - precision: 0.1073 - recall: 0.7843 - val_accuracy: 0.7692 - val_loss: 0.3715 - val_precision: 0.1667 - val_recall: 1.0000 - learning_rate: 0.0010\n",
            "Epoch 5/200\n",
            "\u001b[1m32/33\u001b[0m \u001b[32m━━━━━━━━━━━━━━━━━━━\u001b[0m\u001b[37m━\u001b[0m \u001b[1m0s\u001b[0m 3ms/step - accuracy: 0.7140 - loss: 0.3353 - precision: 0.1288 - recall: 1.0000\n",
            "Epoch 5: val_loss improved from 0.37149 to 0.36859, saving model to best_model.h5\n"
          ]
        },
        {
          "output_type": "stream",
          "name": "stderr",
          "text": [
            "WARNING:absl:You are saving your model as an HDF5 file via `model.save()` or `keras.saving.save_model(model)`. This file format is considered legacy. We recommend using instead the native Keras format, e.g. `model.save('my_model.keras')` or `keras.saving.save_model(model, 'my_model.keras')`. \n"
          ]
        },
        {
          "output_type": "stream",
          "name": "stdout",
          "text": [
            "\b\b\b\b\b\b\b\b\b\b\b\b\b\b\b\b\b\b\b\b\b\b\b\b\b\b\b\b\b\b\b\b\b\b\b\b\b\b\b\b\b\b\b\b\b\b\b\b\b\b\b\b\b\b\b\b\b\b\b\b\b\b\b\b\b\b\b\b\b\b\b\b\b\b\b\b\b\b\b\b\b\b\b\b\b\b\b\b\b\b\b\b\b\b\b\b\b\b\b\b\b\b\b\b\b\b\b\b\b\r\u001b[1m33/33\u001b[0m \u001b[32m━━━━━━━━━━━━━━━━━━━━\u001b[0m\u001b[37m\u001b[0m \u001b[1m1s\u001b[0m 9ms/step - accuracy: 0.7163 - loss: 0.3338 - precision: 0.1312 - recall: 1.0000 - val_accuracy: 0.7846 - val_loss: 0.3686 - val_precision: 0.1765 - val_recall: 1.0000 - learning_rate: 0.0010\n",
            "Epoch 6/200\n",
            "\u001b[1m31/33\u001b[0m \u001b[32m━━━━━━━━━━━━━━━━━━\u001b[0m\u001b[37m━━\u001b[0m \u001b[1m0s\u001b[0m 3ms/step - accuracy: 0.7650 - loss: 0.2806 - precision: 0.1510 - recall: 1.0000\n",
            "Epoch 6: val_loss improved from 0.36859 to 0.36062, saving model to best_model.h5\n"
          ]
        },
        {
          "output_type": "stream",
          "name": "stderr",
          "text": [
            "WARNING:absl:You are saving your model as an HDF5 file via `model.save()` or `keras.saving.save_model(model)`. This file format is considered legacy. We recommend using instead the native Keras format, e.g. `model.save('my_model.keras')` or `keras.saving.save_model(model, 'my_model.keras')`. \n"
          ]
        },
        {
          "output_type": "stream",
          "name": "stdout",
          "text": [
            "\b\b\b\b\b\b\b\b\b\b\b\b\b\b\b\b\b\b\b\b\b\b\b\b\b\b\b\b\b\b\b\b\b\b\b\b\b\b\b\b\b\b\b\b\b\b\b\b\b\b\b\b\b\b\b\b\b\b\b\b\b\b\b\b\b\b\b\b\b\b\b\b\b\b\b\b\b\b\b\b\b\b\b\b\b\b\b\b\b\b\b\b\b\b\b\b\b\b\b\b\b\b\b\b\b\b\b\b\b\r\u001b[1m33/33\u001b[0m \u001b[32m━━━━━━━━━━━━━━━━━━━━\u001b[0m\u001b[37m\u001b[0m \u001b[1m1s\u001b[0m 8ms/step - accuracy: 0.7671 - loss: 0.2789 - precision: 0.1543 - recall: 1.0000 - val_accuracy: 0.7923 - val_loss: 0.3606 - val_precision: 0.1818 - val_recall: 1.0000 - learning_rate: 0.0010\n",
            "Epoch 7/200\n",
            "\u001b[1m33/33\u001b[0m \u001b[32m━━━━━━━━━━━━━━━━━━━━\u001b[0m\u001b[37m\u001b[0m \u001b[1m0s\u001b[0m 3ms/step - accuracy: 0.7692 - loss: 0.3102 - precision: 0.1556 - recall: 1.0000\n",
            "Epoch 7: val_loss improved from 0.36062 to 0.33730, saving model to best_model.h5\n"
          ]
        },
        {
          "output_type": "stream",
          "name": "stderr",
          "text": [
            "WARNING:absl:You are saving your model as an HDF5 file via `model.save()` or `keras.saving.save_model(model)`. This file format is considered legacy. We recommend using instead the native Keras format, e.g. `model.save('my_model.keras')` or `keras.saving.save_model(model, 'my_model.keras')`. \n"
          ]
        },
        {
          "output_type": "stream",
          "name": "stdout",
          "text": [
            "\b\b\b\b\b\b\b\b\b\b\b\b\b\b\b\b\b\b\b\b\b\b\b\b\b\b\b\b\b\b\b\b\b\b\b\b\b\b\b\b\b\b\b\b\b\b\b\b\b\b\b\b\b\b\b\b\b\b\b\b\b\b\b\b\b\b\b\b\b\b\b\b\b\b\b\b\b\b\b\b\b\b\b\b\b\b\b\b\b\b\b\b\b\b\b\b\b\b\b\b\b\b\b\b\b\b\b\b\b\r\u001b[1m33/33\u001b[0m \u001b[32m━━━━━━━━━━━━━━━━━━━━\u001b[0m\u001b[37m\u001b[0m \u001b[1m0s\u001b[0m 8ms/step - accuracy: 0.7700 - loss: 0.3091 - precision: 0.1568 - recall: 1.0000 - val_accuracy: 0.8077 - val_loss: 0.3373 - val_precision: 0.1935 - val_recall: 1.0000 - learning_rate: 0.0010\n",
            "Epoch 8/200\n",
            "\u001b[1m33/33\u001b[0m \u001b[32m━━━━━━━━━━━━━━━━━━━━\u001b[0m\u001b[37m\u001b[0m \u001b[1m0s\u001b[0m 3ms/step - accuracy: 0.7755 - loss: 0.2614 - precision: 0.1593 - recall: 1.0000\n",
            "Epoch 8: val_loss improved from 0.33730 to 0.32823, saving model to best_model.h5\n"
          ]
        },
        {
          "output_type": "stream",
          "name": "stderr",
          "text": [
            "WARNING:absl:You are saving your model as an HDF5 file via `model.save()` or `keras.saving.save_model(model)`. This file format is considered legacy. We recommend using instead the native Keras format, e.g. `model.save('my_model.keras')` or `keras.saving.save_model(model, 'my_model.keras')`. \n"
          ]
        },
        {
          "output_type": "stream",
          "name": "stdout",
          "text": [
            "\b\b\b\b\b\b\b\b\b\b\b\b\b\b\b\b\b\b\b\b\b\b\b\b\b\b\b\b\b\b\b\b\b\b\b\b\b\b\b\b\b\b\b\b\b\b\b\b\b\b\b\b\b\b\b\b\b\b\b\b\b\b\b\b\b\b\b\b\b\b\b\b\b\b\b\b\b\b\b\b\b\b\b\b\b\b\b\b\b\b\b\b\b\b\b\b\b\b\b\b\b\b\b\b\b\b\b\b\b\r\u001b[1m33/33\u001b[0m \u001b[32m━━━━━━━━━━━━━━━━━━━━\u001b[0m\u001b[37m\u001b[0m \u001b[1m0s\u001b[0m 8ms/step - accuracy: 0.7764 - loss: 0.2610 - precision: 0.1606 - recall: 1.0000 - val_accuracy: 0.8385 - val_loss: 0.3282 - val_precision: 0.2222 - val_recall: 1.0000 - learning_rate: 0.0010\n",
            "Epoch 9/200\n",
            "\u001b[1m29/33\u001b[0m \u001b[32m━━━━━━━━━━━━━━━━━\u001b[0m\u001b[37m━━━\u001b[0m \u001b[1m0s\u001b[0m 4ms/step - accuracy: 0.8090 - loss: 0.2374 - precision: 0.1785 - recall: 1.0000\n",
            "Epoch 9: val_loss improved from 0.32823 to 0.29880, saving model to best_model.h5\n"
          ]
        },
        {
          "output_type": "stream",
          "name": "stderr",
          "text": [
            "WARNING:absl:You are saving your model as an HDF5 file via `model.save()` or `keras.saving.save_model(model)`. This file format is considered legacy. We recommend using instead the native Keras format, e.g. `model.save('my_model.keras')` or `keras.saving.save_model(model, 'my_model.keras')`. \n"
          ]
        },
        {
          "output_type": "stream",
          "name": "stdout",
          "text": [
            "\b\b\b\b\b\b\b\b\b\b\b\b\b\b\b\b\b\b\b\b\b\b\b\b\b\b\b\b\b\b\b\b\b\b\b\b\b\b\b\b\b\b\b\b\b\b\b\b\b\b\b\b\b\b\b\b\b\b\b\b\b\b\b\b\b\b\b\b\b\b\b\b\b\b\b\b\b\b\b\b\b\b\b\b\b\b\b\b\b\b\b\b\b\b\b\b\b\b\b\b\b\b\b\b\b\b\b\b\b\r\u001b[1m33/33\u001b[0m \u001b[32m━━━━━━━━━━━━━━━━━━━━\u001b[0m\u001b[37m\u001b[0m \u001b[1m0s\u001b[0m 8ms/step - accuracy: 0.8124 - loss: 0.2369 - precision: 0.1854 - recall: 1.0000 - val_accuracy: 0.8385 - val_loss: 0.2988 - val_precision: 0.2222 - val_recall: 1.0000 - learning_rate: 0.0010\n",
            "Epoch 10/200\n",
            "\u001b[1m18/33\u001b[0m \u001b[32m━━━━━━━━━━\u001b[0m\u001b[37m━━━━━━━━━━\u001b[0m \u001b[1m0s\u001b[0m 3ms/step - accuracy: 0.7936 - loss: 0.4732 - precision: 0.1141 - recall: 0.6374         \n",
            "Epoch 10: val_loss did not improve from 0.29880\n",
            "\u001b[1m33/33\u001b[0m \u001b[32m━━━━━━━━━━━━━━━━━━━━\u001b[0m\u001b[37m\u001b[0m \u001b[1m0s\u001b[0m 8ms/step - accuracy: 0.8168 - loss: 0.3850 - precision: 0.1685 - recall: 0.7843 - val_accuracy: 0.8462 - val_loss: 0.3161 - val_precision: 0.2308 - val_recall: 1.0000 - learning_rate: 0.0010\n",
            "Epoch 11/200\n",
            "\u001b[1m33/33\u001b[0m \u001b[32m━━━━━━━━━━━━━━━━━━━━\u001b[0m\u001b[37m\u001b[0m \u001b[1m0s\u001b[0m 3ms/step - accuracy: 0.8290 - loss: 0.2301 - precision: 0.1937 - recall: 0.9719\n",
            "Epoch 11: val_loss improved from 0.29880 to 0.28437, saving model to best_model.h5\n"
          ]
        },
        {
          "output_type": "stream",
          "name": "stderr",
          "text": [
            "WARNING:absl:You are saving your model as an HDF5 file via `model.save()` or `keras.saving.save_model(model)`. This file format is considered legacy. We recommend using instead the native Keras format, e.g. `model.save('my_model.keras')` or `keras.saving.save_model(model, 'my_model.keras')`. \n"
          ]
        },
        {
          "output_type": "stream",
          "name": "stdout",
          "text": [
            "\b\b\b\b\b\b\b\b\b\b\b\b\b\b\b\b\b\b\b\b\b\b\b\b\b\b\b\b\b\b\b\b\b\b\b\b\b\b\b\b\b\b\b\b\b\b\b\b\b\b\b\b\b\b\b\b\b\b\b\b\b\b\b\b\b\b\b\b\b\b\b\b\b\b\b\b\b\b\b\b\b\b\b\b\b\b\b\b\b\b\b\b\b\b\b\b\b\b\b\b\b\b\b\b\b\b\b\b\b\r\u001b[1m33/33\u001b[0m \u001b[32m━━━━━━━━━━━━━━━━━━━━\u001b[0m\u001b[37m\u001b[0m \u001b[1m0s\u001b[0m 9ms/step - accuracy: 0.8296 - loss: 0.2300 - precision: 0.1952 - recall: 0.9716 - val_accuracy: 0.8692 - val_loss: 0.2844 - val_precision: 0.2609 - val_recall: 1.0000 - learning_rate: 0.0010\n",
            "Epoch 12/200\n",
            "\u001b[1m32/33\u001b[0m \u001b[32m━━━━━━━━━━━━━━━━━━━\u001b[0m\u001b[37m━\u001b[0m \u001b[1m0s\u001b[0m 3ms/step - accuracy: 0.8558 - loss: 0.2175 - precision: 0.2177 - recall: 0.9772\n",
            "Epoch 12: val_loss improved from 0.28437 to 0.28268, saving model to best_model.h5\n"
          ]
        },
        {
          "output_type": "stream",
          "name": "stderr",
          "text": [
            "WARNING:absl:You are saving your model as an HDF5 file via `model.save()` or `keras.saving.save_model(model)`. This file format is considered legacy. We recommend using instead the native Keras format, e.g. `model.save('my_model.keras')` or `keras.saving.save_model(model, 'my_model.keras')`. \n"
          ]
        },
        {
          "output_type": "stream",
          "name": "stdout",
          "text": [
            "\b\b\b\b\b\b\b\b\b\b\b\b\b\b\b\b\b\b\b\b\b\b\b\b\b\b\b\b\b\b\b\b\b\b\b\b\b\b\b\b\b\b\b\b\b\b\b\b\b\b\b\b\b\b\b\b\b\b\b\b\b\b\b\b\b\b\b\b\b\b\b\b\b\b\b\b\b\b\b\b\b\b\b\b\b\b\b\b\b\b\b\b\b\b\b\b\b\b\b\b\b\b\b\b\b\b\b\b\b\r\u001b[1m33/33\u001b[0m \u001b[32m━━━━━━━━━━━━━━━━━━━━\u001b[0m\u001b[37m\u001b[0m \u001b[1m0s\u001b[0m 8ms/step - accuracy: 0.8561 - loss: 0.2174 - precision: 0.2202 - recall: 0.9763 - val_accuracy: 0.8692 - val_loss: 0.2827 - val_precision: 0.2609 - val_recall: 1.0000 - learning_rate: 0.0010\n",
            "Epoch 13/200\n",
            "\u001b[1m33/33\u001b[0m \u001b[32m━━━━━━━━━━━━━━━━━━━━\u001b[0m\u001b[37m\u001b[0m \u001b[1m0s\u001b[0m 3ms/step - accuracy: 0.8521 - loss: 0.2305 - precision: 0.2204 - recall: 1.0000\n",
            "Epoch 13: val_loss did not improve from 0.28268\n",
            "\u001b[1m33/33\u001b[0m \u001b[32m━━━━━━━━━━━━━━━━━━━━\u001b[0m\u001b[37m\u001b[0m \u001b[1m0s\u001b[0m 8ms/step - accuracy: 0.8524 - loss: 0.2301 - precision: 0.2219 - recall: 1.0000 - val_accuracy: 0.8692 - val_loss: 0.2855 - val_precision: 0.2609 - val_recall: 1.0000 - learning_rate: 0.0010\n",
            "Epoch 14/200\n",
            "\u001b[1m32/33\u001b[0m \u001b[32m━━━━━━━━━━━━━━━━━━━\u001b[0m\u001b[37m━\u001b[0m \u001b[1m0s\u001b[0m 3ms/step - accuracy: 0.8421 - loss: 0.2167 - precision: 0.2135 - recall: 1.0000\n",
            "Epoch 14: val_loss improved from 0.28268 to 0.24586, saving model to best_model.h5\n"
          ]
        },
        {
          "output_type": "stream",
          "name": "stderr",
          "text": [
            "WARNING:absl:You are saving your model as an HDF5 file via `model.save()` or `keras.saving.save_model(model)`. This file format is considered legacy. We recommend using instead the native Keras format, e.g. `model.save('my_model.keras')` or `keras.saving.save_model(model, 'my_model.keras')`. \n"
          ]
        },
        {
          "output_type": "stream",
          "name": "stdout",
          "text": [
            "\b\b\b\b\b\b\b\b\b\b\b\b\b\b\b\b\b\b\b\b\b\b\b\b\b\b\b\b\b\b\b\b\b\b\b\b\b\b\b\b\b\b\b\b\b\b\b\b\b\b\b\b\b\b\b\b\b\b\b\b\b\b\b\b\b\b\b\b\b\b\b\b\b\b\b\b\b\b\b\b\b\b\b\b\b\b\b\b\b\b\b\b\b\b\b\b\b\b\b\b\b\b\b\b\b\b\b\b\b\r\u001b[1m33/33\u001b[0m \u001b[32m━━━━━━━━━━━━━━━━━━━━\u001b[0m\u001b[37m\u001b[0m \u001b[1m0s\u001b[0m 8ms/step - accuracy: 0.8443 - loss: 0.2146 - precision: 0.2183 - recall: 1.0000 - val_accuracy: 0.8769 - val_loss: 0.2459 - val_precision: 0.2727 - val_recall: 1.0000 - learning_rate: 0.0010\n",
            "Epoch 15/200\n",
            "\u001b[1m30/33\u001b[0m \u001b[32m━━━━━━━━━━━━━━━━━━\u001b[0m\u001b[37m━━\u001b[0m \u001b[1m0s\u001b[0m 4ms/step - accuracy: 0.8462 - loss: 0.2729 - precision: 0.1871 - recall: 0.7609\n",
            "Epoch 15: val_loss did not improve from 0.24586\n",
            "\u001b[1m33/33\u001b[0m \u001b[32m━━━━━━━━━━━━━━━━━━━━\u001b[0m\u001b[37m\u001b[0m \u001b[1m0s\u001b[0m 8ms/step - accuracy: 0.8493 - loss: 0.2655 - precision: 0.1972 - recall: 0.7843 - val_accuracy: 0.8846 - val_loss: 0.2564 - val_precision: 0.2857 - val_recall: 1.0000 - learning_rate: 0.0010\n",
            "Epoch 16/200\n",
            "\u001b[1m33/33\u001b[0m \u001b[32m━━━━━━━━━━━━━━━━━━━━\u001b[0m\u001b[37m\u001b[0m \u001b[1m0s\u001b[0m 3ms/step - accuracy: 0.8764 - loss: 0.2058 - precision: 0.2536 - recall: 1.0000\n",
            "Epoch 16: val_loss did not improve from 0.24586\n",
            "\u001b[1m33/33\u001b[0m \u001b[32m━━━━━━━━━━━━━━━━━━━━\u001b[0m\u001b[37m\u001b[0m \u001b[1m0s\u001b[0m 7ms/step - accuracy: 0.8769 - loss: 0.2052 - precision: 0.2555 - recall: 1.0000 - val_accuracy: 0.8846 - val_loss: 0.2560 - val_precision: 0.2857 - val_recall: 1.0000 - learning_rate: 0.0010\n",
            "Epoch 17/200\n",
            "\u001b[1m33/33\u001b[0m \u001b[32m━━━━━━━━━━━━━━━━━━━━\u001b[0m\u001b[37m\u001b[0m \u001b[1m0s\u001b[0m 3ms/step - accuracy: 0.8739 - loss: 0.1926 - precision: 0.2466 - recall: 1.0000\n",
            "Epoch 17: val_loss improved from 0.24586 to 0.24298, saving model to best_model.h5\n"
          ]
        },
        {
          "output_type": "stream",
          "name": "stderr",
          "text": [
            "WARNING:absl:You are saving your model as an HDF5 file via `model.save()` or `keras.saving.save_model(model)`. This file format is considered legacy. We recommend using instead the native Keras format, e.g. `model.save('my_model.keras')` or `keras.saving.save_model(model, 'my_model.keras')`. \n"
          ]
        },
        {
          "output_type": "stream",
          "name": "stdout",
          "text": [
            "\b\b\b\b\b\b\b\b\b\b\b\b\b\b\b\b\b\b\b\b\b\b\b\b\b\b\b\b\b\b\b\b\b\b\b\b\b\b\b\b\b\b\b\b\b\b\b\b\b\b\b\b\b\b\b\b\b\b\b\b\b\b\b\b\b\b\b\b\b\b\b\b\b\b\b\b\b\b\b\b\b\b\b\b\b\b\b\b\b\b\b\b\b\b\b\b\b\b\b\b\b\b\b\b\b\b\b\b\b\r\u001b[1m33/33\u001b[0m \u001b[32m━━━━━━━━━━━━━━━━━━━━\u001b[0m\u001b[37m\u001b[0m \u001b[1m0s\u001b[0m 9ms/step - accuracy: 0.8742 - loss: 0.1923 - precision: 0.2483 - recall: 1.0000 - val_accuracy: 0.8923 - val_loss: 0.2430 - val_precision: 0.3000 - val_recall: 1.0000 - learning_rate: 0.0010\n",
            "Epoch 18/200\n",
            "\u001b[1m30/33\u001b[0m \u001b[32m━━━━━━━━━━━━━━━━━━\u001b[0m\u001b[37m━━\u001b[0m \u001b[1m0s\u001b[0m 4ms/step - accuracy: 0.8797 - loss: 0.1653 - precision: 0.2525 - recall: 1.0000\n",
            "Epoch 18: val_loss improved from 0.24298 to 0.22719, saving model to best_model.h5\n"
          ]
        },
        {
          "output_type": "stream",
          "name": "stderr",
          "text": [
            "WARNING:absl:You are saving your model as an HDF5 file via `model.save()` or `keras.saving.save_model(model)`. This file format is considered legacy. We recommend using instead the native Keras format, e.g. `model.save('my_model.keras')` or `keras.saving.save_model(model, 'my_model.keras')`. \n"
          ]
        },
        {
          "output_type": "stream",
          "name": "stdout",
          "text": [
            "\b\b\b\b\b\b\b\b\b\b\b\b\b\b\b\b\b\b\b\b\b\b\b\b\b\b\b\b\b\b\b\b\b\b\b\b\b\b\b\b\b\b\b\b\b\b\b\b\b\b\b\b\b\b\b\b\b\b\b\b\b\b\b\b\b\b\b\b\b\b\b\b\b\b\b\b\b\b\b\b\b\b\b\b\b\b\b\b\b\b\b\b\b\b\b\b\b\b\b\b\b\b\b\b\b\b\b\b\b\r\u001b[1m33/33\u001b[0m \u001b[32m━━━━━━━━━━━━━━━━━━━━\u001b[0m\u001b[37m\u001b[0m \u001b[1m1s\u001b[0m 9ms/step - accuracy: 0.8812 - loss: 0.1644 - precision: 0.2595 - recall: 1.0000 - val_accuracy: 0.9000 - val_loss: 0.2272 - val_precision: 0.3158 - val_recall: 1.0000 - learning_rate: 0.0010\n",
            "Epoch 19/200\n",
            "\u001b[1m33/33\u001b[0m \u001b[32m━━━━━━━━━━━━━━━━━━━━\u001b[0m\u001b[37m\u001b[0m \u001b[1m0s\u001b[0m 5ms/step - accuracy: 0.8954 - loss: 0.1664 - precision: 0.2828 - recall: 0.9963\n",
            "Epoch 19: val_loss improved from 0.22719 to 0.20568, saving model to best_model.h5\n"
          ]
        },
        {
          "output_type": "stream",
          "name": "stderr",
          "text": [
            "WARNING:absl:You are saving your model as an HDF5 file via `model.save()` or `keras.saving.save_model(model)`. This file format is considered legacy. We recommend using instead the native Keras format, e.g. `model.save('my_model.keras')` or `keras.saving.save_model(model, 'my_model.keras')`. \n"
          ]
        },
        {
          "output_type": "stream",
          "name": "stdout",
          "text": [
            "\b\b\b\b\b\b\b\b\b\b\b\b\b\b\b\b\b\b\b\b\b\b\b\b\b\b\b\b\b\b\b\b\b\b\b\b\b\b\b\b\b\b\b\b\b\b\b\b\b\b\b\b\b\b\b\b\b\b\b\b\b\b\b\b\b\b\b\b\b\b\b\b\b\b\b\b\b\b\b\b\b\b\b\b\b\b\b\b\b\b\b\b\b\b\b\b\b\b\b\b\b\b\b\b\b\b\b\b\b\r\u001b[1m33/33\u001b[0m \u001b[32m━━━━━━━━━━━━━━━━━━━━\u001b[0m\u001b[37m\u001b[0m \u001b[1m0s\u001b[0m 14ms/step - accuracy: 0.8955 - loss: 0.1664 - precision: 0.2842 - recall: 0.9953 - val_accuracy: 0.9154 - val_loss: 0.2057 - val_precision: 0.3529 - val_recall: 1.0000 - learning_rate: 0.0010\n",
            "Epoch 20/200\n",
            "\u001b[1m24/33\u001b[0m \u001b[32m━━━━━━━━━━━━━━\u001b[0m\u001b[37m━━━━━━\u001b[0m \u001b[1m0s\u001b[0m 5ms/step - accuracy: 0.8983 - loss: 0.1706 - precision: 0.2770 - recall: 1.0000\n",
            "Epoch 20: val_loss did not improve from 0.20568\n",
            "\u001b[1m33/33\u001b[0m \u001b[32m━━━━━━━━━━━━━━━━━━━━\u001b[0m\u001b[37m\u001b[0m \u001b[1m0s\u001b[0m 11ms/step - accuracy: 0.9002 - loss: 0.1722 - precision: 0.2952 - recall: 1.0000 - val_accuracy: 0.9000 - val_loss: 0.2378 - val_precision: 0.3158 - val_recall: 1.0000 - learning_rate: 0.0010\n",
            "Epoch 21/200\n",
            "\u001b[1m24/33\u001b[0m \u001b[32m━━━━━━━━━━━━━━\u001b[0m\u001b[37m━━━━━━\u001b[0m \u001b[1m0s\u001b[0m 4ms/step - accuracy: 0.8840 - loss: 0.1921 - precision: 0.2515 - recall: 1.0000\n",
            "Epoch 21: val_loss did not improve from 0.20568\n",
            "\u001b[1m33/33\u001b[0m \u001b[32m━━━━━━━━━━━━━━━━━━━━\u001b[0m\u001b[37m\u001b[0m \u001b[1m1s\u001b[0m 10ms/step - accuracy: 0.8884 - loss: 0.1832 - precision: 0.2736 - recall: 1.0000 - val_accuracy: 0.9077 - val_loss: 0.2131 - val_precision: 0.3333 - val_recall: 1.0000 - learning_rate: 0.0010\n",
            "Epoch 22/200\n",
            "\u001b[1m32/33\u001b[0m \u001b[32m━━━━━━━━━━━━━━━━━━━\u001b[0m\u001b[37m━\u001b[0m \u001b[1m0s\u001b[0m 5ms/step - accuracy: 0.9027 - loss: 0.1628 - precision: 0.2969 - recall: 1.0000\n",
            "Epoch 22: val_loss did not improve from 0.20568\n",
            "\u001b[1m33/33\u001b[0m \u001b[32m━━━━━━━━━━━━━━━━━━━━\u001b[0m\u001b[37m\u001b[0m \u001b[1m1s\u001b[0m 11ms/step - accuracy: 0.9032 - loss: 0.1620 - precision: 0.3006 - recall: 1.0000 - val_accuracy: 0.9077 - val_loss: 0.2220 - val_precision: 0.3333 - val_recall: 1.0000 - learning_rate: 0.0010\n",
            "Epoch 23/200\n",
            "\u001b[1m30/33\u001b[0m \u001b[32m━━━━━━━━━━━━━━━━━━\u001b[0m\u001b[37m━━\u001b[0m \u001b[1m0s\u001b[0m 5ms/step - accuracy: 0.8994 - loss: 0.1672 - precision: 0.2910 - recall: 1.0000\n",
            "Epoch 23: val_loss did not improve from 0.20568\n",
            "\u001b[1m33/33\u001b[0m \u001b[32m━━━━━━━━━━━━━━━━━━━━\u001b[0m\u001b[37m\u001b[0m \u001b[1m0s\u001b[0m 13ms/step - accuracy: 0.9012 - loss: 0.1650 - precision: 0.2997 - recall: 1.0000 - val_accuracy: 0.9077 - val_loss: 0.2176 - val_precision: 0.3333 - val_recall: 1.0000 - learning_rate: 0.0010\n",
            "Epoch 24/200\n",
            "\u001b[1m31/33\u001b[0m \u001b[32m━━━━━━━━━━━━━━━━━━\u001b[0m\u001b[37m━━\u001b[0m \u001b[1m0s\u001b[0m 3ms/step - accuracy: 0.9143 - loss: 0.1515 - precision: 0.3188 - recall: 0.9665\n",
            "Epoch 24: val_loss did not improve from 0.20568\n",
            "\n",
            "Epoch 24: ReduceLROnPlateau reducing learning rate to 0.0005000000237487257.\n",
            "\u001b[1m33/33\u001b[0m \u001b[32m━━━━━━━━━━━━━━━━━━━━\u001b[0m\u001b[37m\u001b[0m \u001b[1m0s\u001b[0m 8ms/step - accuracy: 0.9145 - loss: 0.1519 - precision: 0.3232 - recall: 0.9659 - val_accuracy: 0.9154 - val_loss: 0.2284 - val_precision: 0.3529 - val_recall: 1.0000 - learning_rate: 0.0010\n",
            "Epoch 25/200\n",
            "\u001b[1m33/33\u001b[0m \u001b[32m━━━━━━━━━━━━━━━━━━━━\u001b[0m\u001b[37m\u001b[0m \u001b[1m0s\u001b[0m 3ms/step - accuracy: 0.9099 - loss: 0.1687 - precision: 0.3144 - recall: 1.0000\n",
            "Epoch 25: val_loss did not improve from 0.20568\n",
            "\u001b[1m33/33\u001b[0m \u001b[32m━━━━━━━━━━━━━━━━━━━━\u001b[0m\u001b[37m\u001b[0m \u001b[1m0s\u001b[0m 7ms/step - accuracy: 0.9101 - loss: 0.1685 - precision: 0.3163 - recall: 1.0000 - val_accuracy: 0.9154 - val_loss: 0.2238 - val_precision: 0.3529 - val_recall: 1.0000 - learning_rate: 5.0000e-04\n",
            "Epoch 26/200\n",
            "\u001b[1m18/33\u001b[0m \u001b[32m━━━━━━━━━━\u001b[0m\u001b[37m━━━━━━━━━━\u001b[0m \u001b[1m0s\u001b[0m 3ms/step - accuracy: 0.9056 - loss: 0.1568 - precision: 0.2735 - recall: 1.0000 \n",
            "Epoch 26: val_loss improved from 0.20568 to 0.20037, saving model to best_model.h5\n"
          ]
        },
        {
          "output_type": "stream",
          "name": "stderr",
          "text": [
            "WARNING:absl:You are saving your model as an HDF5 file via `model.save()` or `keras.saving.save_model(model)`. This file format is considered legacy. We recommend using instead the native Keras format, e.g. `model.save('my_model.keras')` or `keras.saving.save_model(model, 'my_model.keras')`. \n"
          ]
        },
        {
          "output_type": "stream",
          "name": "stdout",
          "text": [
            "\b\b\b\b\b\b\b\b\b\b\b\b\b\b\b\b\b\b\b\b\b\b\b\b\b\b\b\b\b\b\b\b\b\b\b\b\b\b\b\b\b\b\b\b\b\b\b\b\b\b\b\b\b\b\b\b\b\b\b\b\b\b\b\b\b\b\b\b\b\b\b\b\b\b\b\b\b\b\b\b\b\b\b\b\b\b\b\b\b\b\b\b\b\b\b\b\b\b\b\b\b\b\b\b\b\b\b\b\b\r\u001b[1m33/33\u001b[0m \u001b[32m━━━━━━━━━━━━━━━━━━━━\u001b[0m\u001b[37m\u001b[0m \u001b[1m0s\u001b[0m 8ms/step - accuracy: 0.9119 - loss: 0.1443 - precision: 0.3212 - recall: 1.0000 - val_accuracy: 0.9154 - val_loss: 0.2004 - val_precision: 0.3529 - val_recall: 1.0000 - learning_rate: 5.0000e-04\n",
            "Epoch 27/200\n",
            "\u001b[1m18/33\u001b[0m \u001b[32m━━━━━━━━━━\u001b[0m\u001b[37m━━━━━━━━━━\u001b[0m \u001b[1m0s\u001b[0m 3ms/step - accuracy: 0.9084 - loss: 0.1624 - precision: 0.2803 - recall: 1.0000 \n",
            "Epoch 27: val_loss improved from 0.20037 to 0.19395, saving model to best_model.h5\n"
          ]
        },
        {
          "output_type": "stream",
          "name": "stderr",
          "text": [
            "WARNING:absl:You are saving your model as an HDF5 file via `model.save()` or `keras.saving.save_model(model)`. This file format is considered legacy. We recommend using instead the native Keras format, e.g. `model.save('my_model.keras')` or `keras.saving.save_model(model, 'my_model.keras')`. \n"
          ]
        },
        {
          "output_type": "stream",
          "name": "stdout",
          "text": [
            "\b\b\b\b\b\b\b\b\b\b\b\b\b\b\b\b\b\b\b\b\b\b\b\b\b\b\b\b\b\b\b\b\b\b\b\b\b\b\b\b\b\b\b\b\b\b\b\b\b\b\b\b\b\b\b\b\b\b\b\b\b\b\b\b\b\b\b\b\b\b\b\b\b\b\b\b\b\b\b\b\b\b\b\b\b\b\b\b\b\b\b\b\b\b\b\b\b\b\b\b\b\b\b\b\b\b\b\b\b\r\u001b[1m33/33\u001b[0m \u001b[32m━━━━━━━━━━━━━━━━━━━━\u001b[0m\u001b[37m\u001b[0m \u001b[1m0s\u001b[0m 8ms/step - accuracy: 0.9171 - loss: 0.1530 - precision: 0.3361 - recall: 1.0000 - val_accuracy: 0.9154 - val_loss: 0.1939 - val_precision: 0.3529 - val_recall: 1.0000 - learning_rate: 5.0000e-04\n",
            "Epoch 28/200\n",
            "\u001b[1m31/33\u001b[0m \u001b[32m━━━━━━━━━━━━━━━━━━\u001b[0m\u001b[37m━━\u001b[0m \u001b[1m0s\u001b[0m 4ms/step - accuracy: 0.9158 - loss: 0.1455 - precision: 0.3304 - recall: 1.0000\n",
            "Epoch 28: val_loss did not improve from 0.19395\n",
            "\u001b[1m33/33\u001b[0m \u001b[32m━━━━━━━━━━━━━━━━━━━━\u001b[0m\u001b[37m\u001b[0m \u001b[1m0s\u001b[0m 8ms/step - accuracy: 0.9166 - loss: 0.1451 - precision: 0.3362 - recall: 1.0000 - val_accuracy: 0.9154 - val_loss: 0.2088 - val_precision: 0.3529 - val_recall: 1.0000 - learning_rate: 5.0000e-04\n",
            "Epoch 29/200\n",
            "\u001b[1m18/33\u001b[0m \u001b[32m━━━━━━━━━━\u001b[0m\u001b[37m━━━━━━━━━━\u001b[0m \u001b[1m0s\u001b[0m 3ms/step - accuracy: 0.9088 - loss: 0.1785 - precision: 0.2803 - recall: 1.0000 \n",
            "Epoch 29: val_loss did not improve from 0.19395\n",
            "\u001b[1m33/33\u001b[0m \u001b[32m━━━━━━━━━━━━━━━━━━━━\u001b[0m\u001b[37m\u001b[0m \u001b[1m0s\u001b[0m 7ms/step - accuracy: 0.9145 - loss: 0.1712 - precision: 0.3270 - recall: 0.9953 - val_accuracy: 0.9154 - val_loss: 0.2136 - val_precision: 0.3529 - val_recall: 1.0000 - learning_rate: 5.0000e-04\n",
            "Epoch 30/200\n",
            "\u001b[1m18/33\u001b[0m \u001b[32m━━━━━━━━━━\u001b[0m\u001b[37m━━━━━━━━━━\u001b[0m \u001b[1m0s\u001b[0m 3ms/step - accuracy: 0.9110 - loss: 0.1248 - precision: 0.2854 - recall: 1.0000 \n",
            "Epoch 30: val_loss did not improve from 0.19395\n",
            "\u001b[1m33/33\u001b[0m \u001b[32m━━━━━━━━━━━━━━━━━━━━\u001b[0m\u001b[37m\u001b[0m \u001b[1m0s\u001b[0m 7ms/step - accuracy: 0.9169 - loss: 0.1252 - precision: 0.3340 - recall: 1.0000 - val_accuracy: 0.9154 - val_loss: 0.2110 - val_precision: 0.3529 - val_recall: 1.0000 - learning_rate: 5.0000e-04\n",
            "Epoch 31/200\n",
            "\u001b[1m33/33\u001b[0m \u001b[32m━━━━━━━━━━━━━━━━━━━━\u001b[0m\u001b[37m\u001b[0m \u001b[1m0s\u001b[0m 3ms/step - accuracy: 0.9121 - loss: 0.1574 - precision: 0.3203 - recall: 1.0000\n",
            "Epoch 31: val_loss did not improve from 0.19395\n",
            "\u001b[1m33/33\u001b[0m \u001b[32m━━━━━━━━━━━━━━━━━━━━\u001b[0m\u001b[37m\u001b[0m \u001b[1m0s\u001b[0m 8ms/step - accuracy: 0.9123 - loss: 0.1566 - precision: 0.3223 - recall: 1.0000 - val_accuracy: 0.9154 - val_loss: 0.2024 - val_precision: 0.3529 - val_recall: 1.0000 - learning_rate: 5.0000e-04\n",
            "Epoch 32/200\n",
            "\u001b[1m18/33\u001b[0m \u001b[32m━━━━━━━━━━\u001b[0m\u001b[37m━━━━━━━━━━\u001b[0m \u001b[1m0s\u001b[0m 3ms/step - accuracy: 0.9270 - loss: 0.1410 - precision: 0.3273 - recall: 1.0000 \n",
            "Epoch 32: val_loss improved from 0.19395 to 0.18983, saving model to best_model.h5\n"
          ]
        },
        {
          "output_type": "stream",
          "name": "stderr",
          "text": [
            "WARNING:absl:You are saving your model as an HDF5 file via `model.save()` or `keras.saving.save_model(model)`. This file format is considered legacy. We recommend using instead the native Keras format, e.g. `model.save('my_model.keras')` or `keras.saving.save_model(model, 'my_model.keras')`. \n"
          ]
        },
        {
          "output_type": "stream",
          "name": "stdout",
          "text": [
            "\b\b\b\b\b\b\b\b\b\b\b\b\b\b\b\b\b\b\b\b\b\b\b\b\b\b\b\b\b\b\b\b\b\b\b\b\b\b\b\b\b\b\b\b\b\b\b\b\b\b\b\b\b\b\b\b\b\b\b\b\b\b\b\b\b\b\b\b\b\b\b\b\b\b\b\b\b\b\b\b\b\b\b\b\b\b\b\b\b\b\b\b\b\b\b\b\b\b\b\b\b\b\b\b\b\b\b\b\b\r\u001b[1m33/33\u001b[0m \u001b[32m━━━━━━━━━━━━━━━━━━━━\u001b[0m\u001b[37m\u001b[0m \u001b[1m0s\u001b[0m 10ms/step - accuracy: 0.9295 - loss: 0.1363 - precision: 0.3696 - recall: 0.9953 - val_accuracy: 0.9154 - val_loss: 0.1898 - val_precision: 0.3529 - val_recall: 1.0000 - learning_rate: 5.0000e-04\n",
            "Epoch 33/200\n",
            "\u001b[1m18/33\u001b[0m \u001b[32m━━━━━━━━━━\u001b[0m\u001b[37m━━━━━━━━━━\u001b[0m \u001b[1m0s\u001b[0m 3ms/step - accuracy: 0.9231 - loss: 0.1565 - precision: 0.3164 - recall: 1.0000  \n",
            "Epoch 33: val_loss did not improve from 0.18983\n",
            "\u001b[1m33/33\u001b[0m \u001b[32m━━━━━━━━━━━━━━━━━━━━\u001b[0m\u001b[37m\u001b[0m \u001b[1m1s\u001b[0m 7ms/step - accuracy: 0.9259 - loss: 0.1507 - precision: 0.3587 - recall: 1.0000 - val_accuracy: 0.9154 - val_loss: 0.2074 - val_precision: 0.3529 - val_recall: 1.0000 - learning_rate: 5.0000e-04\n",
            "Epoch 34/200\n",
            "\u001b[1m30/33\u001b[0m \u001b[32m━━━━━━━━━━━━━━━━━━\u001b[0m\u001b[37m━━\u001b[0m \u001b[1m0s\u001b[0m 3ms/step - accuracy: 0.9034 - loss: 0.2067 - precision: 0.2630 - recall: 0.7609\n",
            "Epoch 34: val_loss did not improve from 0.18983\n",
            "\u001b[1m33/33\u001b[0m \u001b[32m━━━━━━━━━━━━━━━━━━━━\u001b[0m\u001b[37m\u001b[0m \u001b[1m0s\u001b[0m 8ms/step - accuracy: 0.9051 - loss: 0.1999 - precision: 0.2755 - recall: 0.7843 - val_accuracy: 0.9154 - val_loss: 0.1946 - val_precision: 0.3529 - val_recall: 1.0000 - learning_rate: 5.0000e-04\n",
            "Epoch 35/200\n",
            "\u001b[1m18/33\u001b[0m \u001b[32m━━━━━━━━━━\u001b[0m\u001b[37m━━━━━━━━━━\u001b[0m \u001b[1m0s\u001b[0m 3ms/step - accuracy: 0.9026 - loss: 0.1121 - precision: 0.2664 - recall: 1.0000 \n",
            "Epoch 35: val_loss did not improve from 0.18983\n",
            "\u001b[1m33/33\u001b[0m \u001b[32m━━━━━━━━━━━━━━━━━━━━\u001b[0m\u001b[37m\u001b[0m \u001b[1m0s\u001b[0m 8ms/step - accuracy: 0.9067 - loss: 0.1168 - precision: 0.3077 - recall: 1.0000 - val_accuracy: 0.9154 - val_loss: 0.1949 - val_precision: 0.3529 - val_recall: 1.0000 - learning_rate: 5.0000e-04\n",
            "Epoch 36/200\n",
            "\u001b[1m17/33\u001b[0m \u001b[32m━━━━━━━━━━\u001b[0m\u001b[37m━━━━━━━━━━\u001b[0m \u001b[1m0s\u001b[0m 3ms/step - accuracy: 0.9094 - loss: 0.1456 - precision: 0.2791 - recall: 1.0000 \n",
            "Epoch 36: val_loss improved from 0.18983 to 0.17591, saving model to best_model.h5\n"
          ]
        },
        {
          "output_type": "stream",
          "name": "stderr",
          "text": [
            "WARNING:absl:You are saving your model as an HDF5 file via `model.save()` or `keras.saving.save_model(model)`. This file format is considered legacy. We recommend using instead the native Keras format, e.g. `model.save('my_model.keras')` or `keras.saving.save_model(model, 'my_model.keras')`. \n"
          ]
        },
        {
          "output_type": "stream",
          "name": "stdout",
          "text": [
            "\b\b\b\b\b\b\b\b\b\b\b\b\b\b\b\b\b\b\b\b\b\b\b\b\b\b\b\b\b\b\b\b\b\b\b\b\b\b\b\b\b\b\b\b\b\b\b\b\b\b\b\b\b\b\b\b\b\b\b\b\b\b\b\b\b\b\b\b\b\b\b\b\b\b\b\b\b\b\b\b\b\b\b\b\b\b\b\b\b\b\b\b\b\b\b\b\b\b\b\b\b\b\b\b\b\b\b\b\b\r\u001b[1m33/33\u001b[0m \u001b[32m━━━━━━━━━━━━━━━━━━━━\u001b[0m\u001b[37m\u001b[0m \u001b[1m0s\u001b[0m 8ms/step - accuracy: 0.9192 - loss: 0.1370 - precision: 0.3422 - recall: 1.0000 - val_accuracy: 0.9308 - val_loss: 0.1759 - val_precision: 0.4000 - val_recall: 1.0000 - learning_rate: 5.0000e-04\n",
            "Epoch 37/200\n",
            "\u001b[1m17/33\u001b[0m \u001b[32m━━━━━━━━━━\u001b[0m\u001b[37m━━━━━━━━━━\u001b[0m \u001b[1m0s\u001b[0m 3ms/step - accuracy: 0.9178 - loss: 0.1421 - precision: 0.2991 - recall: 1.0000 \n",
            "Epoch 37: val_loss did not improve from 0.17591\n",
            "\u001b[1m33/33\u001b[0m \u001b[32m━━━━━━━━━━━━━━━━━━━━\u001b[0m\u001b[37m\u001b[0m \u001b[1m0s\u001b[0m 8ms/step - accuracy: 0.9227 - loss: 0.1406 - precision: 0.3499 - recall: 1.0000 - val_accuracy: 0.9154 - val_loss: 0.1831 - val_precision: 0.3529 - val_recall: 1.0000 - learning_rate: 5.0000e-04\n",
            "Epoch 38/200\n",
            "\u001b[1m33/33\u001b[0m \u001b[32m━━━━━━━━━━━━━━━━━━━━\u001b[0m\u001b[37m\u001b[0m \u001b[1m0s\u001b[0m 3ms/step - accuracy: 0.9238 - loss: 0.1442 - precision: 0.3569 - recall: 1.0000\n",
            "Epoch 38: val_loss did not improve from 0.17591\n",
            "\u001b[1m33/33\u001b[0m \u001b[32m━━━━━━━━━━━━━━━━━━━━\u001b[0m\u001b[37m\u001b[0m \u001b[1m0s\u001b[0m 7ms/step - accuracy: 0.9242 - loss: 0.1437 - precision: 0.3593 - recall: 1.0000 - val_accuracy: 0.9154 - val_loss: 0.1882 - val_precision: 0.3529 - val_recall: 1.0000 - learning_rate: 5.0000e-04\n",
            "Epoch 39/200\n",
            "\u001b[1m18/33\u001b[0m \u001b[32m━━━━━━━━━━\u001b[0m\u001b[37m━━━━━━━━━━\u001b[0m \u001b[1m0s\u001b[0m 3ms/step - accuracy: 0.9104 - loss: 0.2689 - precision: 0.2144 - recall: 0.6374         \n",
            "Epoch 39: val_loss did not improve from 0.17591\n",
            "\u001b[1m33/33\u001b[0m \u001b[32m━━━━━━━━━━━━━━━━━━━━\u001b[0m\u001b[37m\u001b[0m \u001b[1m0s\u001b[0m 7ms/step - accuracy: 0.9168 - loss: 0.2180 - precision: 0.2948 - recall: 0.7843 - val_accuracy: 0.9154 - val_loss: 0.1987 - val_precision: 0.3529 - val_recall: 1.0000 - learning_rate: 5.0000e-04\n",
            "Epoch 40/200\n",
            "\u001b[1m18/33\u001b[0m \u001b[32m━━━━━━━━━━\u001b[0m\u001b[37m━━━━━━━━━━\u001b[0m \u001b[1m0s\u001b[0m 3ms/step - accuracy: 0.9116 - loss: 0.1456 - precision: 0.2882 - recall: 1.0000 \n",
            "Epoch 40: val_loss did not improve from 0.17591\n",
            "\u001b[1m33/33\u001b[0m \u001b[32m━━━━━━━━━━━━━━━━━━━━\u001b[0m\u001b[37m\u001b[0m \u001b[1m0s\u001b[0m 7ms/step - accuracy: 0.9187 - loss: 0.1438 - precision: 0.3401 - recall: 1.0000 - val_accuracy: 0.9308 - val_loss: 0.1830 - val_precision: 0.4000 - val_recall: 1.0000 - learning_rate: 5.0000e-04\n",
            "Epoch 41/200\n",
            "\u001b[1m31/33\u001b[0m \u001b[32m━━━━━━━━━━━━━━━━━━\u001b[0m\u001b[37m━━\u001b[0m \u001b[1m0s\u001b[0m 3ms/step - accuracy: 0.9294 - loss: 0.1500 - precision: 0.3673 - recall: 1.0000\n",
            "Epoch 41: val_loss did not improve from 0.17591\n",
            "\n",
            "Epoch 41: ReduceLROnPlateau reducing learning rate to 0.0002500000118743628.\n",
            "\u001b[1m33/33\u001b[0m \u001b[32m━━━━━━━━━━━━━━━━━━━━\u001b[0m\u001b[37m\u001b[0m \u001b[1m0s\u001b[0m 7ms/step - accuracy: 0.9299 - loss: 0.1492 - precision: 0.3728 - recall: 1.0000 - val_accuracy: 0.9154 - val_loss: 0.2046 - val_precision: 0.3529 - val_recall: 1.0000 - learning_rate: 5.0000e-04\n",
            "Epoch 42/200\n",
            "\u001b[1m33/33\u001b[0m \u001b[32m━━━━━━━━━━━━━━━━━━━━\u001b[0m\u001b[37m\u001b[0m \u001b[1m0s\u001b[0m 3ms/step - accuracy: 0.9211 - loss: 0.1538 - precision: 0.3462 - recall: 1.0000\n",
            "Epoch 42: val_loss did not improve from 0.17591\n",
            "\u001b[1m33/33\u001b[0m \u001b[32m━━━━━━━━━━━━━━━━━━━━\u001b[0m\u001b[37m\u001b[0m \u001b[1m0s\u001b[0m 7ms/step - accuracy: 0.9214 - loss: 0.1530 - precision: 0.3485 - recall: 1.0000 - val_accuracy: 0.9154 - val_loss: 0.1960 - val_precision: 0.3529 - val_recall: 1.0000 - learning_rate: 2.5000e-04\n",
            "Epoch 43/200\n",
            "\u001b[1m32/33\u001b[0m \u001b[32m━━━━━━━━━━━━━━━━━━━\u001b[0m\u001b[37m━\u001b[0m \u001b[1m0s\u001b[0m 3ms/step - accuracy: 0.9186 - loss: 0.1553 - precision: 0.3357 - recall: 1.0000\n",
            "Epoch 43: val_loss did not improve from 0.17591\n",
            "\u001b[1m33/33\u001b[0m \u001b[32m━━━━━━━━━━━━━━━━━━━━\u001b[0m\u001b[37m\u001b[0m \u001b[1m0s\u001b[0m 8ms/step - accuracy: 0.9188 - loss: 0.1546 - precision: 0.3391 - recall: 1.0000 - val_accuracy: 0.9154 - val_loss: 0.1950 - val_precision: 0.3529 - val_recall: 1.0000 - learning_rate: 2.5000e-04\n",
            "Epoch 44/200\n",
            "\u001b[1m18/33\u001b[0m \u001b[32m━━━━━━━━━━\u001b[0m\u001b[37m━━━━━━━━━━\u001b[0m \u001b[1m0s\u001b[0m 3ms/step - accuracy: 0.9120 - loss: 0.1824 - precision: 0.2894 - recall: 1.0000 \n",
            "Epoch 44: val_loss did not improve from 0.17591\n",
            "\u001b[1m33/33\u001b[0m \u001b[32m━━━━━━━━━━━━━━━━━━━━\u001b[0m\u001b[37m\u001b[0m \u001b[1m0s\u001b[0m 8ms/step - accuracy: 0.9206 - loss: 0.1645 - precision: 0.3465 - recall: 1.0000 - val_accuracy: 0.9231 - val_loss: 0.1855 - val_precision: 0.3750 - val_recall: 1.0000 - learning_rate: 2.5000e-04\n",
            "Epoch 45/200\n",
            "\u001b[1m33/33\u001b[0m \u001b[32m━━━━━━━━━━━━━━━━━━━━\u001b[0m\u001b[37m\u001b[0m \u001b[1m0s\u001b[0m 3ms/step - accuracy: 0.9283 - loss: 0.1326 - precision: 0.3642 - recall: 1.0000\n",
            "Epoch 45: val_loss improved from 0.17591 to 0.17466, saving model to best_model.h5\n"
          ]
        },
        {
          "output_type": "stream",
          "name": "stderr",
          "text": [
            "WARNING:absl:You are saving your model as an HDF5 file via `model.save()` or `keras.saving.save_model(model)`. This file format is considered legacy. We recommend using instead the native Keras format, e.g. `model.save('my_model.keras')` or `keras.saving.save_model(model, 'my_model.keras')`. \n"
          ]
        },
        {
          "output_type": "stream",
          "name": "stdout",
          "text": [
            "\b\b\b\b\b\b\b\b\b\b\b\b\b\b\b\b\b\b\b\b\b\b\b\b\b\b\b\b\b\b\b\b\b\b\b\b\b\b\b\b\b\b\b\b\b\b\b\b\b\b\b\b\b\b\b\b\b\b\b\b\b\b\b\b\b\b\b\b\b\b\b\b\b\b\b\b\b\b\b\b\b\b\b\b\b\b\b\b\b\b\b\b\b\b\b\b\b\b\b\b\b\b\b\b\b\b\b\b\b\r\u001b[1m33/33\u001b[0m \u001b[32m━━━━━━━━━━━━━━━━━━━━\u001b[0m\u001b[37m\u001b[0m \u001b[1m0s\u001b[0m 8ms/step - accuracy: 0.9284 - loss: 0.1322 - precision: 0.3659 - recall: 1.0000 - val_accuracy: 0.9385 - val_loss: 0.1747 - val_precision: 0.4286 - val_recall: 1.0000 - learning_rate: 2.5000e-04\n",
            "Epoch 46/200\n",
            "\u001b[1m18/33\u001b[0m \u001b[32m━━━━━━━━━━\u001b[0m\u001b[37m━━━━━━━━━━\u001b[0m \u001b[1m0s\u001b[0m 3ms/step - accuracy: 0.9266 - loss: 0.1342 - precision: 0.3274 - recall: 1.0000 \n",
            "Epoch 46: val_loss did not improve from 0.17466\n",
            "\u001b[1m33/33\u001b[0m \u001b[32m━━━━━━━━━━━━━━━━━━━━\u001b[0m\u001b[37m\u001b[0m \u001b[1m0s\u001b[0m 7ms/step - accuracy: 0.9305 - loss: 0.1307 - precision: 0.3747 - recall: 1.0000 - val_accuracy: 0.9385 - val_loss: 0.1757 - val_precision: 0.4286 - val_recall: 1.0000 - learning_rate: 2.5000e-04\n",
            "Epoch 47/200\n",
            "\u001b[1m18/33\u001b[0m \u001b[32m━━━━━━━━━━\u001b[0m\u001b[37m━━━━━━━━━━\u001b[0m \u001b[1m0s\u001b[0m 3ms/step - accuracy: 0.9135 - loss: 0.1236 - precision: 0.2925 - recall: 1.0000 \n",
            "Epoch 47: val_loss did not improve from 0.17466\n",
            "\u001b[1m33/33\u001b[0m \u001b[32m━━━━━━━━━━━━━━━━━━━━\u001b[0m\u001b[37m\u001b[0m \u001b[1m0s\u001b[0m 7ms/step - accuracy: 0.9223 - loss: 0.1278 - precision: 0.3511 - recall: 1.0000 - val_accuracy: 0.9231 - val_loss: 0.1823 - val_precision: 0.3750 - val_recall: 1.0000 - learning_rate: 2.5000e-04\n",
            "Epoch 48/200\n",
            "\u001b[1m31/33\u001b[0m \u001b[32m━━━━━━━━━━━━━━━━━━\u001b[0m\u001b[37m━━\u001b[0m \u001b[1m0s\u001b[0m 3ms/step - accuracy: 0.9195 - loss: 0.1512 - precision: 0.3398 - recall: 1.0000\n",
            "Epoch 48: val_loss did not improve from 0.17466\n",
            "\u001b[1m33/33\u001b[0m \u001b[32m━━━━━━━━━━━━━━━━━━━━\u001b[0m\u001b[37m\u001b[0m \u001b[1m0s\u001b[0m 9ms/step - accuracy: 0.9210 - loss: 0.1492 - precision: 0.3481 - recall: 1.0000 - val_accuracy: 0.9308 - val_loss: 0.1817 - val_precision: 0.4000 - val_recall: 1.0000 - learning_rate: 2.5000e-04\n",
            "Epoch 49/200\n",
            "\u001b[1m18/33\u001b[0m \u001b[32m━━━━━━━━━━\u001b[0m\u001b[37m━━━━━━━━━━\u001b[0m \u001b[1m0s\u001b[0m 3ms/step - accuracy: 0.9239 - loss: 0.1354 - precision: 0.3189 - recall: 1.0000 \n",
            "Epoch 49: val_loss did not improve from 0.17466\n",
            "\u001b[1m33/33\u001b[0m \u001b[32m━━━━━━━━━━━━━━━━━━━━\u001b[0m\u001b[37m\u001b[0m \u001b[1m0s\u001b[0m 7ms/step - accuracy: 0.9261 - loss: 0.1335 - precision: 0.3594 - recall: 1.0000 - val_accuracy: 0.9231 - val_loss: 0.1841 - val_precision: 0.3750 - val_recall: 1.0000 - learning_rate: 2.5000e-04\n",
            "Epoch 50/200\n",
            "\u001b[1m18/33\u001b[0m \u001b[32m━━━━━━━━━━\u001b[0m\u001b[37m━━━━━━━━━━\u001b[0m \u001b[1m0s\u001b[0m 3ms/step - accuracy: 0.9234 - loss: 0.1552 - precision: 0.3175 - recall: 1.0000 \n",
            "Epoch 50: val_loss did not improve from 0.17466\n",
            "\n",
            "Epoch 50: ReduceLROnPlateau reducing learning rate to 0.0001250000059371814.\n",
            "\u001b[1m33/33\u001b[0m \u001b[32m━━━━━━━━━━━━━━━━━━━━\u001b[0m\u001b[37m\u001b[0m \u001b[1m0s\u001b[0m 7ms/step - accuracy: 0.9267 - loss: 0.1542 - precision: 0.3599 - recall: 0.9802 - val_accuracy: 0.9231 - val_loss: 0.1918 - val_precision: 0.3750 - val_recall: 1.0000 - learning_rate: 2.5000e-04\n",
            "Epoch 51/200\n",
            "\u001b[1m18/33\u001b[0m \u001b[32m━━━━━━━━━━\u001b[0m\u001b[37m━━━━━━━━━━\u001b[0m \u001b[1m0s\u001b[0m 3ms/step - accuracy: 0.9205 - loss: 0.1350 - precision: 0.3110 - recall: 1.0000 \n",
            "Epoch 51: val_loss did not improve from 0.17466\n",
            "\u001b[1m33/33\u001b[0m \u001b[32m━━━━━━━━━━━━━━━━━━━━\u001b[0m\u001b[37m\u001b[0m \u001b[1m0s\u001b[0m 7ms/step - accuracy: 0.9263 - loss: 0.1343 - precision: 0.3624 - recall: 1.0000 - val_accuracy: 0.9231 - val_loss: 0.1901 - val_precision: 0.3750 - val_recall: 1.0000 - learning_rate: 1.2500e-04\n",
            "Epoch 52/200\n",
            "\u001b[1m32/33\u001b[0m \u001b[32m━━━━━━━━━━━━━━━━━━━\u001b[0m\u001b[37m━\u001b[0m \u001b[1m0s\u001b[0m 3ms/step - accuracy: 0.9257 - loss: 0.1250 - precision: 0.3569 - recall: 1.0000\n",
            "Epoch 52: val_loss did not improve from 0.17466\n",
            "\u001b[1m33/33\u001b[0m \u001b[32m━━━━━━━━━━━━━━━━━━━━\u001b[0m\u001b[37m\u001b[0m \u001b[1m0s\u001b[0m 8ms/step - accuracy: 0.9261 - loss: 0.1253 - precision: 0.3610 - recall: 1.0000 - val_accuracy: 0.9231 - val_loss: 0.1899 - val_precision: 0.3750 - val_recall: 1.0000 - learning_rate: 1.2500e-04\n",
            "Epoch 53/200\n",
            "\u001b[1m18/33\u001b[0m \u001b[32m━━━━━━━━━━\u001b[0m\u001b[37m━━━━━━━━━━\u001b[0m \u001b[1m0s\u001b[0m 3ms/step - accuracy: 0.9157 - loss: 0.1445 - precision: 0.2993 - recall: 1.0000 \n",
            "Epoch 53: val_loss did not improve from 0.17466\n",
            "\u001b[1m33/33\u001b[0m \u001b[32m━━━━━━━━━━━━━━━━━━━━\u001b[0m\u001b[37m\u001b[0m \u001b[1m0s\u001b[0m 7ms/step - accuracy: 0.9232 - loss: 0.1364 - precision: 0.3540 - recall: 1.0000 - val_accuracy: 0.9231 - val_loss: 0.1877 - val_precision: 0.3750 - val_recall: 1.0000 - learning_rate: 1.2500e-04\n",
            "Epoch 54/200\n",
            "\u001b[1m18/33\u001b[0m \u001b[32m━━━━━━━━━━\u001b[0m\u001b[37m━━━━━━━━━━\u001b[0m \u001b[1m0s\u001b[0m 3ms/step - accuracy: 0.9122 - loss: 0.1440 - precision: 0.2900 - recall: 1.0000 \n",
            "Epoch 54: val_loss did not improve from 0.17466\n",
            "\u001b[1m33/33\u001b[0m \u001b[32m━━━━━━━━━━━━━━━━━━━━\u001b[0m\u001b[37m\u001b[0m \u001b[1m0s\u001b[0m 7ms/step - accuracy: 0.9205 - loss: 0.1342 - precision: 0.3462 - recall: 1.0000 - val_accuracy: 0.9231 - val_loss: 0.1826 - val_precision: 0.3750 - val_recall: 1.0000 - learning_rate: 1.2500e-04\n",
            "Epoch 55/200\n",
            "\u001b[1m18/33\u001b[0m \u001b[32m━━━━━━━━━━\u001b[0m\u001b[37m━━━━━━━━━━\u001b[0m \u001b[1m0s\u001b[0m 3ms/step - accuracy: 0.9198 - loss: 0.1946 - precision: 0.2974 - recall: 0.9290 \n",
            "Epoch 55: val_loss did not improve from 0.17466\n",
            "\n",
            "Epoch 55: ReduceLROnPlateau reducing learning rate to 6.25000029685907e-05.\n",
            "\u001b[1m33/33\u001b[0m \u001b[32m━━━━━━━━━━━━━━━━━━━━\u001b[0m\u001b[37m\u001b[0m \u001b[1m0s\u001b[0m 8ms/step - accuracy: 0.9240 - loss: 0.1807 - precision: 0.3462 - recall: 0.9387 - val_accuracy: 0.9231 - val_loss: 0.1895 - val_precision: 0.3750 - val_recall: 1.0000 - learning_rate: 1.2500e-04\n",
            "\n",
            "검증 결과 -> Loss: 0.1747, Accuracy: 0.9385, Precision: 0.4286, Recall: 1.0000\n",
            "\u001b[1m5/5\u001b[0m \u001b[32m━━━━━━━━━━━━━━━━━━━━\u001b[0m\u001b[37m\u001b[0m \u001b[1m0s\u001b[0m 57ms/step\n",
            "Confusion Matrix:\n",
            " [[116   8]\n",
            " [  0   6]]\n",
            "ROC-AUC: 0.9839\n"
          ]
        },
        {
          "output_type": "display_data",
          "data": {
            "text/plain": [
              "<Figure size 600x600 with 1 Axes>"
            ],
            "image/png": "[encoded data removed]"
          },
          "metadata": {}
        },
        {
          "output_type": "stream",
          "name": "stdout",
          "text": [
            "\u001b[1m1/1\u001b[0m \u001b[32m━━━━━━━━━━━━━━━━━━━━\u001b[0m\u001b[37m\u001b[0m \u001b[1m0s\u001b[0m 210ms/step\n",
            "\n",
            "2024-25 시즌 토트넘 우승 확률 예측: 0.00%\n"
          ]
        }
      ]
    },
    {
      "cell_type": "markdown",
      "source": [
        " 컬럼 구성 예시 (주요 컬럼만 발췌)  \n",
        "  - `Date`       : 경기 날짜 (day-first 포맷)  \n",
        "  - `HomeTeam`   : 홈(주최) 팀 이름  \n",
        "  - `AwayTeam`   : 어웨이(원정) 팀 이름  \n",
        "  - `FTH Goals`  : 풀타임(Home 팀 득점) → 코드 내에서 `FTHG`  \n",
        "  - `FTA Goals`  : 풀타임(Away 팀 득점) → 코드 내에서 `FTAG`  \n",
        "  - `FT Result`  : 풀타임 결과 (홈 승 ‘H’, 무승부 ‘D’, 어웨이 승 ‘A’) → 코드 내에서 `FTR`  \n",
        "  - `HTH Goals`  : 하프타임(Home 팀 득점) → 코드 내에서 `HTHG`  \n",
        "  - `HTA Goals`  : 하프타임(Away 팀 득점) → 코드 내에서 `HTAG`  \n",
        "  - `HT Result`  : 하프타임 결과 (홈 승 ‘H’, 무승부 ‘D’, 어웨이 승 ‘A’) → 코드 내에서 `HTR`  \n",
        "  - `Season`     : 시즌 정보 (예: `2023/24` → `2023-24` 으로 변환)  \n",
        "  - 각 시즌별로, **팀마다** 해당 시즌에 치른 모든 경기 결과를 모아 아래 항목 계산  \n",
        "  - Wins    : 승리 횟수  \n",
        "  - Draws   : 무승부 횟수  \n",
        "  - Losses  : 패배 횟수  \n",
        "  - GF (Goals For) : 총 득점  \n",
        "  - GA (Goals Against) : 총 실점  \n",
        "  - GD (Goal Difference) : GF − GA  \n",
        "  - Points  : 승점(승리 3점, 무승부 1점)  \n",
        "  - Matches : 총 경기 수  \n",
        "  - **우승팀 레이블링**  \n",
        "     - `Season`별로 `Points` 최댓값을 가진 `Team`을 뽑아 `Champion` 컬럼 생성  \n",
        "     - 그 후, 팀별 통계표에 `IsChampion` = 1(우승), 0(비우승) Boolean 형태로 부착  \n",
        "\n"
      ],
      "metadata": {
        "id": "X39D3-Tv8brp"
      }
    }
  ]
}